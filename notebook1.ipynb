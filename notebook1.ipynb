{
 "cells": [
  {
   "attachments": {},
   "cell_type": "markdown",
   "metadata": {},
   "source": [
    "\n",
    "<h1>My First Notebook</h1>\n",
    "\n",
    "This cell will render *rich-formatted* text when it is evaluated.  In order to make a **M-down arrow button** on the cell header.\n",
    "\n",
    "<h2>Subheadings and other formats</h2>\n",
    "\n",
    "* Belleted lists\n",
    "* **bolded text**\n",
    "* [links] (http://www.w3.org)"
   ]
  },
  {
   "cell_type": "code",
   "execution_count": 4,
   "metadata": {},
   "outputs": [
    {
     "name": "stdout",
     "output_type": "stream",
     "text": [
      "Hello World!\n"
     ]
    }
   ],
   "source": [
    "print(\"Hello World!\")"
   ]
  },
  {
   "cell_type": "code",
   "execution_count": 5,
   "metadata": {},
   "outputs": [
    {
     "name": "stdout",
     "output_type": "stream",
     "text": [
      "Hello, Kris\n"
     ]
    }
   ],
   "source": [
    "name: str = \"Kris\"\n",
    "print(f\"Hello, {name}\")"
   ]
  },
  {
   "attachments": {},
   "cell_type": "markdown",
   "metadata": {},
   "source": [
    "<h1>Keyboard shortcuts to know</h1>\n",
    "\n",
    "`Control + Enter` - Evaluates the current cell and keeps the focus in the current cell.\n",
    "\n",
    "`Shift + Enter` - Evaluates the current cell and moves focus to the next cell.\n"
   ]
  },
  {
   "cell_type": "code",
   "execution_count": 6,
   "metadata": {},
   "outputs": [
    {
     "name": "stdout",
     "output_type": "stream",
     "text": [
      "Wow, Kris you're doing great!\n"
     ]
    }
   ],
   "source": [
    "print(f\"Wow, {name} you're doing great!\")"
   ]
  },
  {
   "attachments": {},
   "cell_type": "markdown",
   "metadata": {},
   "source": [
    "<h1>The last expression of a cell is printed by default.</h1>"
   ]
  }
 ],
 "metadata": {
  "kernelspec": {
   "display_name": "base",
   "language": "python",
   "name": "python3"
  },
  "language_info": {
   "codemirror_mode": {
    "name": "ipython",
    "version": 3
   },
   "file_extension": ".py",
   "mimetype": "text/x-python",
   "name": "python",
   "nbconvert_exporter": "python",
   "pygments_lexer": "ipython3",
   "version": "3.10.9"
  },
  "orig_nbformat": 4
 },
 "nbformat": 4,
 "nbformat_minor": 2
}
